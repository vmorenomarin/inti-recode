{
 "cells": [
  {
   "cell_type": "code",
   "execution_count": 6,
   "id": "84083f6a-d404-47d4-b81b-821ac9258305",
   "metadata": {},
   "outputs": [],
   "source": [
    "import requests"
   ]
  },
  {
   "cell_type": "code",
   "execution_count": 8,
   "id": "4897d3ea-7c26-4770-a7be-b12117581a74",
   "metadata": {},
   "outputs": [],
   "source": [
    "from articlemeta.client import RestfulClient"
   ]
  },
  {
   "cell_type": "code",
   "execution_count": 12,
   "id": "e2b823ff-e065-4e2e-8941-fc170ce66553",
   "metadata": {},
   "outputs": [],
   "source": [
    "client = RestfulClient()"
   ]
  },
  {
   "cell_type": "code",
   "execution_count": 16,
   "id": "9463f005-3ab5-4b57-b343-204704241563",
   "metadata": {},
   "outputs": [],
   "source": [
    "url = client.ARTICLEMETA_URL + client.JOURNAL_ENDPOINT"
   ]
  }
 ],
 "metadata": {
  "kernelspec": {
   "display_name": "Python 3 (ipykernel)",
   "language": "python",
   "name": "python3"
  },
  "language_info": {
   "codemirror_mode": {
    "name": "ipython",
    "version": 3
   },
   "file_extension": ".py",
   "mimetype": "text/x-python",
   "name": "python",
   "nbconvert_exporter": "python",
   "pygments_lexer": "ipython3",
   "version": "3.8.10"
  }
 },
 "nbformat": 4,
 "nbformat_minor": 5
}
