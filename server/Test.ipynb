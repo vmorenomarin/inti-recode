{
 "cells": [
  {
   "cell_type": "markdown",
   "id": "cc3e9b73-cfe3-494f-8bc9-6554e58a0645",
   "metadata": {},
   "source": [
    "# Test\n",
    "\n",
    "This notebook contains test for line codes of Inti Recode project."
   ]
  },
  {
   "cell_type": "markdown",
   "id": "a933d10b-2572-4584-b6c1-3be665e1ad5c",
   "metadata": {
    "tags": []
   },
   "source": [
    "## Importing native python libraries"
   ]
  },
  {
   "cell_type": "code",
   "execution_count": 2,
   "id": "5e48f815-8c60-41a2-9b92-f61400a8bcf8",
   "metadata": {},
   "outputs": [],
   "source": [
    "import requests\n",
    "from dotenv import dotenv_values\n",
    "from pymongo.mongo_client import MongoClient"
   ]
  },
  {
   "cell_type": "markdown",
   "id": "3050e098-2db4-4050-8280-0330ab2263bd",
   "metadata": {
    "tags": []
   },
   "source": [
    "## Importint thrid-party librariies"
   ]
  },
  {
   "cell_type": "code",
   "execution_count": 3,
   "id": "e086972b-564c-4509-b48f-8f20aa1563ff",
   "metadata": {},
   "outputs": [],
   "source": [
    "from articlemeta.client import RestfulClient"
   ]
  },
  {
   "cell_type": "markdown",
   "id": "6dd58aac-ab03-482f-aefd-5bf0a37deafc",
   "metadata": {},
   "source": [
    "## Class instances and config values"
   ]
  },
  {
   "cell_type": "code",
   "execution_count": 4,
   "id": "e2b823ff-e065-4e2e-8941-fc170ce66553",
   "metadata": {},
   "outputs": [],
   "source": [
    "config = dotenv_values(\".env\")\n",
    "scielo_client = RestfulClient()\n",
    "mongo_client = MongoClient(host=config[\"MONGO_URI\"])\n",
    "db = mongo_client[\"scielo\"]"
   ]
  },
  {
   "cell_type": "markdown",
   "id": "26c500a4-a79d-4461-9a08-bd6965f18dc6",
   "metadata": {
    "tags": []
   },
   "source": [
    "## General Tests"
   ]
  },
  {
   "cell_type": "code",
   "execution_count": 25,
   "id": "61beb066-cff6-4b5a-9c4f-a7d5651fe882",
   "metadata": {
    "jp-MarkdownHeadingCollapsed": true,
    "tags": []
   },
   "outputs": [
    {
     "data": {
      "text/plain": [
       "'0122-6339'"
      ]
     },
     "execution_count": 25,
     "metadata": {},
     "output_type": "execute_result"
    }
   ],
   "source": [
    "list_journals =[journal for journal \n",
    "                in db.journals.find({}).sort(\"processing_date\",-1).limit(5)]\n",
    "list_journals[0][\"code\"]"
   ]
  },
  {
   "cell_type": "code",
   "execution_count": 8,
   "id": "3466da40-7c10-4410-92b1-77be290551b9",
   "metadata": {},
   "outputs": [],
   "source": [
    "response=requests.get(\"https://articlemeta.scielo.org/api/v1/journal/identifiers/?collection=ecu\")\n",
    "response=response.json()\n",
    "journals=response[\"objects\"]"
   ]
  },
  {
   "cell_type": "code",
   "execution_count": 30,
   "id": "c4398629-cb83-4679-8f3b-95acfc3a5f2e",
   "metadata": {},
   "outputs": [
    {
     "data": {
      "text/plain": [
       "'2016-06-16'"
      ]
     },
     "execution_count": 30,
     "metadata": {},
     "output_type": "execute_result"
    }
   ],
   "source": [
    "local_journal = db[\"journals\"].find_one(\n",
    "                {\"collection\": \"col\", \"code\": \"1657-0790\"})\n",
    "local_journal[\"processing_date\"]"
   ]
  }
 ],
 "metadata": {
  "kernelspec": {
   "display_name": "Python 3 (ipykernel)",
   "language": "python",
   "name": "python3"
  },
  "language_info": {
   "codemirror_mode": {
    "name": "ipython",
    "version": 3
   },
   "file_extension": ".py",
   "mimetype": "text/x-python",
   "name": "python",
   "nbconvert_exporter": "python",
   "pygments_lexer": "ipython3",
   "version": "3.8.10"
  },
  "toc-autonumbering": true,
  "toc-showcode": true,
  "toc-showmarkdowntxt": false,
  "toc-showtags": true
 },
 "nbformat": 4,
 "nbformat_minor": 5
}
