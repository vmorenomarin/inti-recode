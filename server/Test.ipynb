{
 "cells": [
  {
   "cell_type": "markdown",
   "id": "cc3e9b73-cfe3-494f-8bc9-6554e58a0645",
   "metadata": {},
   "source": [
    "# Test\n",
    "\n",
    "This notebook contains test for line codes of Inti Recode project."
   ]
  },
  {
   "cell_type": "markdown",
   "id": "a933d10b-2572-4584-b6c1-3be665e1ad5c",
   "metadata": {
    "tags": []
   },
   "source": [
    "## Importing native python libraries"
   ]
  },
  {
   "cell_type": "code",
   "execution_count": 1,
   "id": "5e48f815-8c60-41a2-9b92-f61400a8bcf8",
   "metadata": {},
   "outputs": [],
   "source": [
    "import requests\n",
    "from dotenv import dotenv_values\n",
    "from pymongo.mongo_client import MongoClient"
   ]
  },
  {
   "cell_type": "markdown",
   "id": "3050e098-2db4-4050-8280-0330ab2263bd",
   "metadata": {
    "tags": []
   },
   "source": [
    "## Importint thrid-party librariies"
   ]
  },
  {
   "cell_type": "code",
   "execution_count": 2,
   "id": "e086972b-564c-4509-b48f-8f20aa1563ff",
   "metadata": {},
   "outputs": [],
   "source": [
    "from articlemeta.client import RestfulClient\n",
    "from v1.scripts.get_data import DataScielo"
   ]
  },
  {
   "cell_type": "markdown",
   "id": "6dd58aac-ab03-482f-aefd-5bf0a37deafc",
   "metadata": {},
   "source": [
    "## Class instances and config values"
   ]
  },
  {
   "cell_type": "code",
   "execution_count": 3,
   "id": "e2b823ff-e065-4e2e-8941-fc170ce66553",
   "metadata": {},
   "outputs": [],
   "source": [
    "config = dotenv_values(\".env\")\n",
    "scielo_client = RestfulClient()\n",
    "data_scielo = DataScielo()\n",
    "mongo_client = MongoClient(host=config[\"MONGO_URI\"])\n",
    "db = mongo_client[\"scielo\"]"
   ]
  },
  {
   "cell_type": "markdown",
   "id": "26c500a4-a79d-4461-9a08-bd6965f18dc6",
   "metadata": {
    "tags": []
   },
   "source": [
    "## General Tests"
   ]
  },
  {
   "cell_type": "code",
   "execution_count": 4,
   "id": "61beb066-cff6-4b5a-9c4f-a7d5651fe882",
   "metadata": {
    "jp-MarkdownHeadingCollapsed": true,
    "tags": []
   },
   "outputs": [
    {
     "data": {
      "text/plain": [
       "'0122-6339'"
      ]
     },
     "execution_count": 4,
     "metadata": {},
     "output_type": "execute_result"
    }
   ],
   "source": [
    "list_journals =[journal for journal \n",
    "                in db.journals.find({}).sort(\"processing_date\",-1).limit(5)]\n",
    "list_journals[0][\"code\"]"
   ]
  },
  {
   "cell_type": "code",
   "execution_count": 5,
   "id": "3466da40-7c10-4410-92b1-77be290551b9",
   "metadata": {},
   "outputs": [],
   "source": [
    "response=requests.get(\"https://articlemeta.scielo.org/api/v1/journal/identifiers/?collection=ecu\")\n",
    "response=response.json()\n",
    "journals=response[\"objects\"]"
   ]
  },
  {
   "cell_type": "code",
   "execution_count": 4,
   "id": "c4398629-cb83-4679-8f3b-95acfc3a5f2e",
   "metadata": {},
   "outputs": [
    {
     "data": {
      "text/plain": [
       "'2014-07-06'"
      ]
     },
     "execution_count": 4,
     "metadata": {},
     "output_type": "execute_result"
    }
   ],
   "source": [
    "local_journal = db[\"journals\"].find_one(\n",
    "                {\"collection\": \"col\", \"code\": \"1657-0790\"})\n",
    "local_journal[\"processing_date\"]"
   ]
  },
  {
   "cell_type": "code",
   "execution_count": 5,
   "id": "5c85ae6d-3a45-4e46-8d44-f4c9ba3342b6",
   "metadata": {},
   "outputs": [
    {
     "name": "stdout",
     "output_type": "stream",
     "text": [
      "1 2014-07-06\n"
     ]
    }
   ],
   "source": [
    "result=db[\"journals\"].update_one({\"code\": \"1657-0790\"}, {\"$set\":{\"processing_date\":\"2014-07-06\"}})\n",
    "local_journal=db[\"journals\"].find_one({\"collection\": \"col\", \"code\": \"1657-0790\"})\n",
    "print(result.modified_count, local_journal[\"processing_date\"])\n"
   ]
  },
  {
   "cell_type": "markdown",
   "id": "a6f985aa-13aa-4042-9a58-2a03a3683294",
   "metadata": {},
   "source": [
    "### Testing ```compare_date``` function"
   ]
  },
  {
   "cell_type": "code",
   "execution_count": 5,
   "id": "5707edd0-af1c-4d16-a99c-46b74f3088b8",
   "metadata": {},
   "outputs": [
    {
     "data": {
      "text/plain": [
       "{'col': ['1657-0790']}"
      ]
     },
     "execution_count": 5,
     "metadata": {},
     "output_type": "execute_result"
    }
   ],
   "source": [
    "journals_to_update=data_scielo.compare_date(\"col\")\n",
    "journals_to_update"
   ]
  },
  {
   "cell_type": "markdown",
   "id": "f9283679-9f5e-4d54-b586-d0e177f9ddee",
   "metadata": {},
   "source": [
    "### Test ```update_journals```"
   ]
  },
  {
   "cell_type": "code",
   "execution_count": 6,
   "id": "675c3395-7684-4280-b4bb-a1dcab23defa",
   "metadata": {},
   "outputs": [
    {
     "data": {
      "text/plain": [
       "1"
      ]
     },
     "execution_count": 6,
     "metadata": {},
     "output_type": "execute_result"
    }
   ],
   "source": [
    "counter=data_scielo.update_journals(\"col\")\n",
    "counter"
   ]
  },
  {
   "cell_type": "code",
   "execution_count": 8,
   "id": "d9e46af2-e2bb-4749-b895-72292bf4bbb9",
   "metadata": {},
   "outputs": [
    {
     "data": {
      "text/plain": [
       "'2016-06-16'"
      ]
     },
     "execution_count": 8,
     "metadata": {},
     "output_type": "execute_result"
    }
   ],
   "source": [
    "local_journal=db[\"journals\"].find_one({\"collection\": \"col\", \"code\": \"1657-0790\"})\n",
    "local_journal[\"processing_date\"]"
   ]
  }
 ],
 "metadata": {
  "kernelspec": {
   "display_name": "Python 3 (ipykernel)",
   "language": "python",
   "name": "python3"
  },
  "language_info": {
   "codemirror_mode": {
    "name": "ipython",
    "version": 3
   },
   "file_extension": ".py",
   "mimetype": "text/x-python",
   "name": "python",
   "nbconvert_exporter": "python",
   "pygments_lexer": "ipython3",
   "version": "3.8.10"
  },
  "toc-autonumbering": true,
  "toc-showcode": true,
  "toc-showmarkdowntxt": false,
  "toc-showtags": true
 },
 "nbformat": 4,
 "nbformat_minor": 5
}
